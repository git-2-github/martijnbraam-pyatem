{
 "cells": [
  {
   "cell_type": "code",
   "execution_count": 3,
   "id": "812f3db8",
   "metadata": {},
   "outputs": [],
   "source": [
    "%matplotlib inline\n",
    "import numpy as np\n",
    "import math\n",
    "from scipy.signal import freqz\n",
    "import matplotlib.pyplot as plt\n",
    "from matplotlib.ticker import ScalarFormatter"
   ]
  },
  {
   "cell_type": "code",
   "execution_count": 4,
   "id": "18b2c025",
   "metadata": {},
   "outputs": [],
   "source": [
    "ctrl = [\n",
    "    {\"type\": \"highpass\", \"f\": 60},\n",
    "    {\"type\": \"band\", \"f\": 250, \"gain\": 6, \"q\": 2},\n",
    "    {\"type\": \"band\", \"f\": 250, \"gain\": -6, \"q\": 2},\n",
    "    {\"type\": \"notch\", \"f\": 125},\n",
    "    {\"type\": \"band\", \"f\": 2000, \"gain\": 6, \"q\": 4},\n",
    "    {\"type\": \"lowpass\", \"f\": 8000},\n",
    "]"
   ]
  },
  {
   "cell_type": "code",
   "execution_count": 5,
   "id": "fe431380",
   "metadata": {},
   "outputs": [
    {
     "data": {
      "text/plain": [
       "(10, 24000)"
      ]
     },
     "execution_count": 5,
     "metadata": {},
     "output_type": "execute_result"
    },
    {
     "data": {
      "image/png": "[encoded data removed]",
      "text/plain": [
       "<Figure size 432x288 with 1 Axes>"
      ]
     },
     "metadata": {
      "needs_background": "light"
     },
     "output_type": "display_data"
    }
   ],
   "source": [
    "x = []\n",
    "y = []\n",
    "s = []\n",
    "\n",
    "for fltr in ctrl:\n",
    "    x.append(fltr[\"f\"])\n",
    "    if \"gain\" in fltr:\n",
    "        y.append(fltr[\"gain\"])\n",
    "    else:\n",
    "        y.append(0)\n",
    "    s.append(1)\n",
    "\n",
    "\n",
    "plt.scatter(x, y)\n",
    "plt.xlabel(\"Frequency\")\n",
    "plt.ylabel(\"Gain\")\n",
    "plt.ylim([-20, 20])\n",
    "plt.xscale(\"log\", base=2)\n",
    "plt.xlim([10, 24000])\n"
   ]
  },
  {
   "cell_type": "code",
   "execution_count": 15,
   "id": "8f073c7c",
   "metadata": {},
   "outputs": [],
   "source": [
    "class BiQuad:\n",
    "    def __init__(self):\n",
    "        self.b0 = 1\n",
    "        self.b1 = 1\n",
    "        self.b2 = 1\n",
    "        self.a0 = 1\n",
    "        self.a1 = 1\n",
    "        self.a2 = 1\n",
    "        \n",
    "    def normalize(self):\n",
    "        self.b0 /= self.a0\n",
    "        self.b1 /= self.a0\n",
    "        self.b2 /= self.a0\n",
    "        self.a1 /= self.a0\n",
    "        self.a2 /= self.a0\n",
    "        self.a0 = 1.0\n",
    "        \n",
    "    def get_coeff(self):\n",
    "        return ([self.b0, self.b1, self.b2], [self.a0, self.a1, self.a2])\n",
    "    \n",
    "    def calculate(self, f):\n",
    "        phi = (math.sin(math.pi * f * 2/(2*48000)))**2\n",
    "        r =((self.b0+self.b1+self.b2)**2 - \\\n",
    "        4*(self.b0*self.b1 + 4*self.b0*self.b2 + \\\n",
    "        self.b1*self.b2)*phi + 16*self.b0*self.b2*phi*phi) / \\\n",
    "        ((1+self.a1+self.a2)**2 - 4*(self.a1 + 4*self.a2 + \\\n",
    "        self.a1*self.a2)*phi + 16*self.a2*phi*phi)\n",
    "        if(r < 0):\n",
    "          r = 0\n",
    "        r = r**(.5)\n",
    "        try:\n",
    "            return 20 * math.log10(r)\n",
    "        except:\n",
    "            return -200\n",
    "\n",
    "class HighPass(BiQuad):\n",
    "    def __init__(self, frequency):\n",
    "        w0 = (2 * math.pi * frequency) / 48000\n",
    "        s0 = math.sin(w0)\n",
    "        c0 = math.cos(w0)\n",
    "        q = 0.7071\n",
    "        alpha = s0 / (2 * q)\n",
    "        self.b0 = (1 + c0) / 2\n",
    "        self.b1 = -(1 + c0)\n",
    "        self.b2 = (1 + c0) / 2\n",
    "        self.a0 = 1 + alpha\n",
    "        self.a1 = -2 * c0\n",
    "        self.a2 = 1 - alpha\n",
    "        \n",
    "class LowPass(BiQuad):\n",
    "    def __init__(self, frequency):\n",
    "        w0 = (2 * math.pi * frequency) / 48000\n",
    "        s0 = math.sin(w0)\n",
    "        c0 = math.cos(w0)\n",
    "        q = 0.7071\n",
    "        alpha = s0 / (2 * q)\n",
    "        self.b0 = (1 - c0) / 2\n",
    "        self.b1 = 1 + c0\n",
    "        self.b2 = (1 - c0) / 2\n",
    "        self.a0 = 1 + alpha\n",
    "        self.a1 = -2 * c0\n",
    "        self.a2 = 1 - alpha\n",
    "        \n",
    "class Peaking(BiQuad):\n",
    "    def __init__(self, frequency, gain, q):\n",
    "        A = math.pow(10, gain / 40)\n",
    "        w0 = (2 * math.pi * frequency) / 48000\n",
    "        if q == 0:\n",
    "            q = 1\n",
    "        alpha = math.sin(w0) / (2 * q)\n",
    "        self.b0 = 1 + alpha * A\n",
    "        self.b1 = -2 * math.cos(w0)\n",
    "        self.b2 = 1 - alpha * A\n",
    "        self.a0 = 1 + alpha / A\n",
    "        self.a1 = -2 * math.cos(w0)\n",
    "        self.a2 = 1 - alpha / A\n",
    "        \n",
    "class Notch(BiQuad):\n",
    "    def __init__(self, frequency, q):\n",
    "        w0 = (2 * math.pi * frequency) / 48000\n",
    "        if q == 0:\n",
    "            q = 1\n",
    "        alpha = math.sin(w0) / (2 * q)\n",
    "        self.b0 = 1\n",
    "        self.b1 = -2 * math.cos(w0)\n",
    "        self.b2 = 1\n",
    "        self.a0 = 1 + alpha\n",
    "        self.a1 = -2 * math.cos(w0)\n",
    "        self.a2 = 1 - alpha\n",
    "\n",
    "class HighShelf(BiQuad):\n",
    "    def __init__(self, frequency, gain):\n",
    "        A = math.pow(10, gain / 40)\n",
    "        w0 = (2 * math.pi * frequency) / 48000\n",
    "        s0 = math.sin(w0)\n",
    "        c0 = math.cos(w0)\n",
    "        beta = math.sqrt(A + A)\n",
    "        self.b0 = A * ((A + 1) + (A - 1) * c0 + beta * s0)\n",
    "        self.b1 = -2 * A * ((A - 1) + (A + 1) * c0)\n",
    "        self.b2 = A * ((A + 1) + (A - 1) * c0 - beta * s0)\n",
    "        self.a0 = (A + 1) - (A - 1) * c0 + beta * s0\n",
    "        self.a1 = 2 * ((A - 1) - (A + 1) * c0)\n",
    "        self.a2 = (A + 1) - (A - 1) * c0 - beta * s0\n",
    "\n",
    "class LowShelf(BiQuad):\n",
    "    def __init__(self, frequency, gain):\n",
    "        A = math.pow(10, gain / 40)\n",
    "        w0 = (2 * math.pi * frequency) / 48000\n",
    "        s0 = math.sin(w0)\n",
    "        c0 = math.cos(w0)\n",
    "        beta = math.sqrt(A + A)\n",
    "        self.b0 = A * ((A + 1) - (A - 1) * c0 + beta * s0)\n",
    "        self.b1 = 2 * A * ((A - 1) - (A + 1) * c0)\n",
    "        self.b2 = A * ((A + 1) - (A - 1) * c0 - beta * s0)\n",
    "        self.a0 = (A + 1) + (A - 1) * c0 + beta * s0\n",
    "        self.a1 = -2 * ((A - 1) + (A + 1) * c0)\n",
    "        self.a2 = (A + 1) + (A - 1) * c0 - beta * s0\n"
   ]
  },
  {
   "cell_type": "code",
   "execution_count": 16,
   "id": "8da21a38",
   "metadata": {},
   "outputs": [
    {
     "data": {
      "text/plain": [
       "([1.1329663507257324, -1.3121235210942044, 0.4753337834674982],\n",
       " [1.0, -1.3859918589516194, 0.5344317963358153])"
      ]
     },
     "execution_count": 16,
     "metadata": {},
     "output_type": "execute_result"
    }
   ],
   "source": [
    "# 60Hz High pass filter\n",
    "testfilter1 = HighPass(1400)\n",
    "b1, a1 = testfilter1.get_coeff()\n",
    "testfilter1.normalize()\n",
    "\n",
    "# 2Khz band, gain=10dB, Q=4\n",
    "testfilter2 = Peaking(2000, 6, 4)\n",
    "b2, a2 = testfilter2.get_coeff()\n",
    "testfilter2.get_coeff()\n",
    "testfilter1.get_coeff()\n",
    "\n",
    "testfilter3 = Notch(1100,7)\n",
    "testfilter3.normalize()\n",
    "\n",
    "testfilter4 = Notch(1000,7)\n",
    "testfilter4.normalize()\n",
    "\n",
    "testfilter5 = LowPass(4000)\n",
    "testfilter5.normalize()\n",
    "\n",
    "testfilter6 = LowShelf(4000, 6)\n",
    "testfilter6.normalize()\n",
    "testfilter6.get_coeff()"
   ]
  },
  {
   "cell_type": "code",
   "execution_count": 17,
   "id": "db4bd911",
   "metadata": {},
   "outputs": [
    {
     "data": {
      "text/plain": [
       "<matplotlib.lines.Line2D at 0x7fd3f2cf8ca0>"
      ]
     },
     "execution_count": 17,
     "metadata": {},
     "output_type": "execute_result"
    },
    {
     "data": {
      "image/png": "[encoded data removed]",
      "text/plain": [
       "<Figure size 432x288 with 1 Axes>"
      ]
     },
     "metadata": {
      "needs_background": "light"
     },
     "output_type": "display_data"
    }
   ],
   "source": [
    "response = []\n",
    "steps = []\n",
    "for f in range(0,24000,10):\n",
    "    steps.append(f)\n",
    "    response.append(testfilter5.calculate(f))\n",
    "plt.plot(steps, response)\n",
    "plt.xlabel(\"Frequency\")\n",
    "plt.ylabel(\"Gain\")\n",
    "plt.xscale(\"log\", base=2)\n",
    "plt.xlim([10, 24000])\n",
    "plt.ylim([-20, 20])\n",
    "ax = plt.gca()\n",
    "ax.xaxis.set_major_formatter(ScalarFormatter())\n",
    "\n",
    "plt.axvline(1400, color=\"k\")\n",
    "plt.axhline(0,color=\"r\")\n",
    "plt.axhline(-3,color=\"r\")"
   ]
  },
  {
   "cell_type": "code",
   "execution_count": 9,
   "id": "51c8dfdf",
   "metadata": {},
   "outputs": [
    {
     "data": {
      "text/plain": [
       "<matplotlib.lines.Line2D at 0x7fd3f2f10580>"
      ]
     },
     "execution_count": 9,
     "metadata": {},
     "output_type": "execute_result"
    },
    {
     "data": {
      "image/png": "[encoded data removed]",
      "text/plain": [
       "<Figure size 432x288 with 1 Axes>"
      ]
     },
     "metadata": {
      "needs_background": "light"
     },
     "output_type": "display_data"
    }
   ],
   "source": [
    "w1, h1 = freqz(b1, a1, fs=48000, worN=20480)\n",
    "w2, h2 = freqz(b2, a2, fs=48000, worN=20480)\n",
    "plt.plot(w1, np.abs(h1)*np.abs(h2), 'b')\n",
    "plt.xlabel(\"Frequency\")\n",
    "plt.ylabel(\"Gain\")\n",
    "plt.xscale(\"log\", base=2)\n",
    "plt.xlim([10, 24000])\n",
    "ax = plt.gca()\n",
    "ax.xaxis.set_major_formatter(ScalarFormatter())\n",
    "\n",
    "plt.axvline(60, color=\"k\")\n",
    "plt.axvline(2000, color=\"k\")"
   ]
  },
  {
   "cell_type": "code",
   "execution_count": null,
   "id": "872a1dd7",
   "metadata": {},
   "outputs": [],
   "source": []
  },
  {
   "cell_type": "code",
   "execution_count": null,
   "id": "27c2a62b",
   "metadata": {},
   "outputs": [],
   "source": []
  }
 ],
 "metadata": {
  "kernelspec": {
   "display_name": "Python 3 (ipykernel)",
   "language": "python",
   "name": "python3"
  },
  "language_info": {
   "codemirror_mode": {
    "name": "ipython",
    "version": 3
   },
   "file_extension": ".py",
   "mimetype": "text/x-python",
   "name": "python",
   "nbconvert_exporter": "python",
   "pygments_lexer": "ipython3",
   "version": "3.10.4"
  }
 },
 "nbformat": 4,
 "nbformat_minor": 5
}
